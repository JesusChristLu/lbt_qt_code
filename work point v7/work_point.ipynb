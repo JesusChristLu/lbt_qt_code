{
 "cells": [
  {
   "cell_type": "markdown",
   "id": "299da76c",
   "metadata": {},
   "source": [
    "# IMPORT"
   ]
  },
  {
   "cell_type": "code",
   "execution_count": 2,
   "id": "a27bc403",
   "metadata": {},
   "outputs": [],
   "source": [
    "import numpy as np\n",
    "import matplotlib.pyplot as plt\n",
    "from copy import deepcopy\n",
    "from qutip import *\n",
    "from qutip.qip.operations import rz\n",
    "from qutip.qip.operations import cphase\n",
    "from scipy.optimize import minimize, minimize_scalar"
   ]
  },
  {
   "cell_type": "code",
   "execution_count": 3,
   "id": "9db2633d",
   "metadata": {},
   "outputs": [],
   "source": [
    "# 可交互图像\n",
    "%matplotlib notebook\n",
    "%matplotlib inline"
   ]
  },
  {
   "cell_type": "markdown",
   "id": "3a98eab0",
   "metadata": {},
   "source": [
    "# 参数设置"
   ]
  },
  {
   "cell_type": "code",
   "execution_count": 4,
   "id": "26fe4a78",
   "metadata": {},
   "outputs": [
    {
     "name": "stdout",
     "output_type": "stream",
     "text": [
      "{'q0q1': 0.002214401002636834, 'q1q2': 0.0016429426793757155} {'q0c0': 0.019792740520695653, 'q1c0': 0.021138514350399654, 'q1c1': 0.02160831302807306, 'q2c1': 0.02030692330267238}\n"
     ]
    }
   ],
   "source": [
    "anharm = {'q0' : -2 * np.pi * 201 * 1e-3, 'c0' : -2 * np.pi * 200 * 1e-3, 'q1' : -2 * np.pi * 204 * 1e-3, 'c1' : -2 * np.pi * 206 * 1e-3, 'q2' : -2 * np.pi * 208 * 1e-3}\n",
    "C_q = [97, 99, 97]\n",
    "C_c = [95, 100]\n",
    "C_ic = {'q0c0' : 3.8, 'q1c0' : 4.1, 'q1c1' : 4.3, 'q2c1' : 4}\n",
    "C_12 = {'q0q1' : 0.27, 'q1q2' : 0.15}\n",
    "\n",
    "g_qc = dict()\n",
    "for k in C_ic:\n",
    "    q, c = int(k[1]), int(k[3])\n",
    "    g_qc[k] = 0.5 * C_ic[k] / np.sqrt(C_q[q] * C_c[c])\n",
    "\n",
    "g_qq = dict()\n",
    "for k in C_12:\n",
    "    q0, q1 = int(k[1]), int(k[3])\n",
    "    C_1cC_2c = 1\n",
    "    for kk in C_ic:\n",
    "        if ('q' + str(q0) in kk and 'q' + str(q1) + kk[2:] in C_ic) or ('q' + str(q1) in kk and 'q' + str(q0) + kk[2:] in C_ic):\n",
    "            C_1cC_2c *= C_ic[kk]\n",
    "            ck = int(kk[3])\n",
    "    g_qq[k] = 0.5 * (1 + C_1cC_2c / (C_12[k] * C_c[ck])) * C_12[k] / np.sqrt(C_q[q0] * C_q[q1])\n",
    "\n",
    "print(g_qq, g_qc)"
   ]
  },
  {
   "cell_type": "markdown",
   "id": "beb73717",
   "metadata": {},
   "source": [
    "# 定义系统哈密顿量"
   ]
  },
  {
   "cell_type": "markdown",
   "id": "96517ede",
   "metadata": {},
   "source": [
    "一个把算符张起来的函数"
   ]
  },
  {
   "cell_type": "code",
   "execution_count": 50,
   "id": "54a2aa4a",
   "metadata": {},
   "outputs": [],
   "source": [
    "def tensorOperator(energyLevel, op, qubit, qubitNum):\n",
    "    I = qeye(energyLevel)\n",
    "    for dim in range(qubitNum):\n",
    "        if dim == qubit:\n",
    "            tempOp = op\n",
    "        else:\n",
    "            tempOp = I\n",
    "        if dim == 0:\n",
    "            tensorOp = tempOp\n",
    "        else:\n",
    "            tensorOp = tensor(tempOp, tensorOp)\n",
    "    return tensorOp"
   ]
  },
  {
   "cell_type": "markdown",
   "id": "c26b68ce",
   "metadata": {},
   "source": [
    "哈密顿量"
   ]
  },
  {
   "cell_type": "markdown",
   "id": "c726019a",
   "metadata": {},
   "source": [
    "态的各个bit位：$|...q3c2q2c1q1c0q0\\rangle$,输入频率时按照$[\\omega_{q0},\\omega_{q1},\\cdots]$"
   ]
  },
  {
   "cell_type": "code",
   "execution_count": 51,
   "id": "512d6be6",
   "metadata": {},
   "outputs": [],
   "source": [
    "def H(g_qc, g_qq, omegaq, omegac, qNum, cNum):\n",
    "    noH = True\n",
    "    for freQ in range(len(omegaq)):\n",
    "        if noH:\n",
    "            H0 = omegaq[freQ] * aqDagList[freQ] * aqList[freQ] + 0.5 * anharm['q' + str(freQ)] * aqDagList[freQ] * aqDagList[freQ] * aqList[freQ] * aqList[freQ]\n",
    "            noH = False\n",
    "        else:\n",
    "            H0 += omegaq[freQ] * aqDagList[freQ] * aqList[freQ] + 0.5 * anharm['q' + str(freQ)] * aqDagList[freQ] * aqDagList[freQ] * aqList[freQ] * aqList[freQ]\n",
    "    for freC in range(len(omegac)):\n",
    "        H0 += omegac[freC] * acDagList[freC] * acList[freC] + 0.5 * anharm['c' + str(freC)] * acDagList[freC] * acDagList[freC] * acList[freC] * acList[freC]\n",
    "    noH = True\n",
    "    for g in g_qc:\n",
    "        q, c = int(g[1]), int(g[3])\n",
    "        if q < qNum and c < cNum:\n",
    "            if noH:\n",
    "                Hi = g_qc[g] * np.sqrt(omegaq[q] * omegac[c]) * (aqDagList[q] + aqList[q]) * (acList[c] + acDagList[c])\n",
    "                noH = False\n",
    "            else:\n",
    "                Hi += g_qc[g] * np.sqrt(omegaq[q] * omegac[c]) * (aqDagList[q] + aqList[q]) * (acList[c] + acDagList[c])\n",
    "    for g in g_qq:\n",
    "        q0, q1 = int(g[1]), int(g[3])\n",
    "        if q0 < qNum and q1 < qNum:\n",
    "            Hi += g_qq[g] * np.sqrt(omegaq[q0] *  omegaq[q1]) * (aqDagList[q0] + aqList[q0]) * (aqList[q1] + aqDagList[q1])\n",
    "    return H0, Hi"
   ]
  },
  {
   "cell_type": "markdown",
   "id": "1b3d59e0",
   "metadata": {},
   "source": [
    "升降算符，粒子数算符"
   ]
  },
  {
   "cell_type": "code",
   "execution_count": 52,
   "id": "7f22f5f3",
   "metadata": {},
   "outputs": [],
   "source": [
    "energyLevel = 3\n",
    "bitNum = 3\n",
    "a, aDag = destroy(energyLevel), create(energyLevel)\n",
    "I = qeye(energyLevel)\n",
    "IenergyLevel = tensorOperator(energyLevel, I, 0, bitNum)\n",
    "aqList, aqDagList = [], []\n",
    "acList, acDagList = [], []\n",
    "sxList, syList, szList = [], [], []\n",
    "for b in range(bitNum):\n",
    "    if b % 2 == 0:\n",
    "        aq = tensorOperator(energyLevel, a, b, bitNum)\n",
    "        aqDag = tensorOperator(energyLevel, aDag, b, bitNum)\n",
    "        aqList.append(aq)\n",
    "        aqDagList.append(aqDag)\n",
    "        sxList.append(aq + aqDag)\n",
    "        syList.append(1j * (aqDag - aq))\n",
    "        szList.append(IenergyLevel - 2 * aqDag * aq)\n",
    "    else:\n",
    "        acList.append(tensorOperator(energyLevel, a, b, bitNum))\n",
    "        acDagList.append(tensorOperator(energyLevel, aDag, b, bitNum))"
   ]
  },
  {
   "cell_type": "markdown",
   "id": "6c2d08e6",
   "metadata": {},
   "source": [
    "# 本征态"
   ]
  },
  {
   "cell_type": "markdown",
   "id": "d82af36b",
   "metadata": {},
   "source": [
    "能级顺序"
   ]
  },
  {
   "cell_type": "code",
   "execution_count": 53,
   "id": "00e66f7e",
   "metadata": {},
   "outputs": [
    {
     "name": "stdout",
     "output_type": "stream",
     "text": [
      "['000', '001', '002', '010', '011', '012', '020', '021', '022', '100', '101', '102', '110', '111', '112', '120', '121', '122', '200', '201', '202', '210', '211', '212', '220', '221', '222']\n"
     ]
    }
   ],
   "source": [
    "energy_info = {'dim':[energyLevel] * bitNum, 'exci_num': energyLevel * bitNum, 'bas_list':[], 'bas_name_list':[]}\n",
    "\n",
    "for bas in state_number_enumerate(energy_info['dim'], excitations=energy_info['exci_num']):\n",
    "    energy_info['bas_list'].append(state_number_qobj(energy_info['dim'], bas))\n",
    "    energy_info['bas_name_list'].append(''.join(map(str,bas)))\n",
    "energy_info['bas_num'] = len(energy_info['bas_list'])\n",
    "\n",
    "print(energy_info['bas_name_list'])"
   ]
  },
  {
   "cell_type": "markdown",
   "id": "77abb5ab",
   "metadata": {},
   "source": [
    "计算本征态并按顺序排列"
   ]
  },
  {
   "cell_type": "code",
   "execution_count": 54,
   "id": "31472bff",
   "metadata": {},
   "outputs": [],
   "source": [
    "def eigensolve(H0, H):\n",
    "    ei_states = H.eigenstates()\n",
    "    ei_energy = ei_states[0]\n",
    "    ei_vector = ei_states[1]\n",
    "    \n",
    "    ei_states0 = H0.eigenstates()\n",
    "    ei_energy0 = ei_states0[0]\n",
    "    ei_vector0 = ei_states0[1]\n",
    "    \n",
    "    states_order = ei_vector.copy()\n",
    "    states0_order = ei_vector.copy()\n",
    "    energy_order = ei_energy.copy()\n",
    "    energy0_order = ei_energy.copy()\n",
    "    for n, vector in enumerate(ei_vector0):\n",
    "        try:\n",
    "            index = energy_info['bas_list'].index(vector)\n",
    "            states_order[index] = ei_vector[n]\n",
    "            states0_order[index] = ei_vector0[n]\n",
    "            energy_order[index] = ei_energy[n]\n",
    "            energy0_order[index] = ei_energy0[n]            \n",
    "        except:\n",
    "            pass\n",
    "    return states_order, states0_order, energy_order, energy0_order"
   ]
  },
  {
   "cell_type": "markdown",
   "id": "0daf544a",
   "metadata": {},
   "source": [
    "计算zz耦合"
   ]
  },
  {
   "cell_type": "code",
   "execution_count": 55,
   "id": "9d420f06",
   "metadata": {},
   "outputs": [],
   "source": [
    "def zzcoupling(parameter):\n",
    "    g_qc = parameter['gqc']\n",
    "    g_qq = parameter['gqq']\n",
    "    bitNum = parameter['bitNum']\n",
    "    omegaq = parameter['omegaq']\n",
    "    omegac = parameter['omegac']\n",
    "    \n",
    "    H0, Hi = H(g_qc, g_qq, omegaq, omegac, (bitNum + 1) // 2, (bitNum - 1) // 2)\n",
    "    _, _, energy, _ = eigensolve(H0, H0 + Hi)\n",
    "    zeta = energy[state_number_index(energy_info['dim'], [1, 0, 1])] - energy[state_number_index(energy_info['dim'], [1, 0, 0])] - \\\n",
    "            energy[state_number_index(energy_info['dim'], [0, 0, 1])] + energy[state_number_index(energy_info['dim'], [0, 0, 0])]\n",
    "    return zeta"
   ]
  },
  {
   "cell_type": "markdown",
   "id": "f46cb1fe",
   "metadata": {},
   "source": [
    "扫一个$\\omega_c,\\omega_2$的图"
   ]
  },
  {
   "cell_type": "code",
   "execution_count": 56,
   "id": "bc50d778",
   "metadata": {},
   "outputs": [],
   "source": [
    "omega2List = np.arange(4, 6, 2 / 50)\n",
    "omegacList = np.arange(4, 8, 4 / 50)\n",
    "zeta_list = []\n",
    "parameters = []\n",
    "for omega2 in omega2List:\n",
    "    for omegac in omegacList:\n",
    "        parameter = {'gqc' : g_qc, 'gqq' : g_qq, 'bitNum' : bitNum, \n",
    "                    'omegaq' : np.array([5, omega2]) * 2 * np.pi, 'omegac' : np.array([omegac]) * 2 * np.pi}\n",
    "        parameters.append(parameter)\n",
    "        zeta_list.append(np.abs(zzcoupling(parameter)))\n",
    "# zeta_list = parallel_map(zzcoupling, parameters, progress_bar=True, num_cpus=4)\n",
    "zeta_list = np.array([zeta_list]).reshape(len(omega2List), len(omegacList))"
   ]
  },
  {
   "cell_type": "markdown",
   "id": "91fa0bd6",
   "metadata": {},
   "source": [
    "plot"
   ]
  },
  {
   "cell_type": "code",
   "execution_count": 57,
   "id": "cc566e11",
   "metadata": {},
   "outputs": [],
   "source": [
    "xx,yy = np.meshgrid(omega2List, omegacList)\n",
    "font2 = {'family' : 'Times New Roman', 'weight' : 'normal', 'size' : 20}\n",
    "fig, ax = plt.subplots()\n",
    "c = ax.pcolormesh(xx, yy, np.log10(zeta_list.T), cmap='jet')\n",
    "# c = ax.pcolormesh(xx, yy, zeta_list.T, cmap='jet')\n",
    "cb=plt.colorbar(c, ax=ax)\n",
    "cb.set_label('$log_{10}(\\zeta)$',fontdict=font2) \n",
    "\n",
    "plt.xlabel('$\\omega_2$',font2)\n",
    "plt.ylabel('$\\omega_c$',font2)\n",
    "plt.savefig('xi.pdf', dpi=300)"
   ]
  },
  {
   "cell_type": "markdown",
   "id": "fabcaa64",
   "metadata": {},
   "source": [
    "# 单比特门分析"
   ]
  },
  {
   "cell_type": "markdown",
   "id": "1799c1f7",
   "metadata": {},
   "source": [
    "驱动脉冲\\\n",
    "$\\Omega_x=\\frac{A}{2}\\left(1-\\cos(\\frac{2\\pi t}{t_g})\\right)$\\\n",
    "$\\Omega_y=-\\frac{\\lambda\\dot{\\Omega}_x}{\\alpha}$\\\n",
    "$I=\\cos\\phi,Q=\\sin\\phi$\\\n",
    "$\\Omega(t)=\\left(\\Omega_xI+\\Omega_yQ\\right)\\cos((\\omega_d+\\Delta)t)$"
   ]
  },
  {
   "cell_type": "code",
   "execution_count": 58,
   "id": "6b5e9c15",
   "metadata": {},
   "outputs": [],
   "source": [
    "def drive_pulseX0(t, args):  \n",
    "    tg = args['gate time']\n",
    "    amp = args['q0 amp']\n",
    "    w_d = args['q0 drive frequency']\n",
    "    alpha = anharm['q0']\n",
    "    detune = args['q0 detune']\n",
    "    lambda0 = args['drag weight']\n",
    "    phi = args['q0 phi']\n",
    "    I = np.cos(phi)\n",
    "    Q = np.sin(phi)\n",
    "    X0 = amp * (1 - np.cos(2 * np.pi * t / tg)) / 2 \n",
    "    Y0 = -amp * np.pi / tg * np.sin(2 * np.pi * t / tg) / alpha * lambda0\n",
    "    X = (X0 * I + Y0 * Q) * np.cos((w_d + detune) * t) \n",
    "    return X\n",
    "\n",
    "def drive_pulseY0(t, args):  \n",
    "    tg = args['gate time']\n",
    "    amp = args['q0 amp']\n",
    "    w_d = args['q0 drive frequency']\n",
    "    alpha = anharm['q0']\n",
    "    detune = args['q0 detune']\n",
    "    lambda0 = args['drag weight']\n",
    "    phi = args['q0 phi']\n",
    "    I = np.cos(phi)\n",
    "    Q = np.sin(phi)\n",
    "    X0 = amp * (1 - np.cos(2 * np.pi * t / tg)) / 2 \n",
    "    Y0 = -amp * np.pi / tg * np.sin(2 * np.pi * t / tg) / alpha * lambda0\n",
    "    X = (Y0 * I - X0 * Q) * np.cos((w_d + detune) * t) \n",
    "    return X\n",
    "\n",
    "def drive_pulseX1(t, args):  \n",
    "    tg = args['gate time']\n",
    "    amp = args['q1 amp']\n",
    "    w_d = args['q1 drive frequency']\n",
    "    alpha = anharm['q1']\n",
    "    detune = args['q1 detune']\n",
    "    lambda1 = args['drag weight']\n",
    "    phi = args['q1 phi']\n",
    "    I = np.cos(phi)\n",
    "    Q = np.sin(phi)\n",
    "    X0 = amp * (1 - np.cos(2 * np.pi * t / tg)) / 2 \n",
    "    Y0 = -amp * np.pi / tg * np.sin(2 * np.pi * t / tg) / alpha * lambda1\n",
    "    X = (X0 * I + Y0 * Q) * np.cos((w_d + detune) * t) \n",
    "    return X\n",
    "\n",
    "def drive_pulseY1(t, args):  \n",
    "    tg = args['gate time']\n",
    "    amp = args['q1 amp']\n",
    "    w_d = args['q1 drive frequency']\n",
    "    alpha = anharm['q1']\n",
    "    detune = args['q1 detune']\n",
    "    lambda1 = args['drag weight']\n",
    "    phi = args['q1 phi']\n",
    "    I = np.cos(phi)\n",
    "    Q = np.sin(phi)\n",
    "    X0 = amp * (1 - np.cos(2 * np.pi * t / tg)) / 2 \n",
    "    Y0 = -amp * np.pi / tg * np.sin(2 * np.pi * t / tg) / alpha * lambda1\n",
    "    X = (Y0 * I - X0 * Q) * np.cos((w_d + detune) * t) \n",
    "    return X"
   ]
  },
  {
   "cell_type": "markdown",
   "id": "3878488a",
   "metadata": {},
   "source": [
    "保真度公式\n",
    "$F=\\frac{\\text{tr}\\left(U_\\text{eff}^\\dagger U_\\text{eff}\\right)+\\left\\lvert\\text{tr}\\left(U^\\dagger U_\\text{eff}\\right)\\right\\rvert^2}{d(d+1)}$"
   ]
  },
  {
   "cell_type": "code",
   "execution_count": 59,
   "id": "5d89b58a",
   "metadata": {},
   "outputs": [],
   "source": [
    "def Fidelity_X(U):\n",
    "    d = U.data.shape[0]\n",
    "    f = lambda phi : -((np.trace(np.dot(U.dag(), U)) + \n",
    "                        np.abs(np.trace(np.dot(rz(-phi) * U.dag(), sigmax()))) ** 2) / (d * (d + 1)))\n",
    "    res = minimize_scalar(f, method='brent')\n",
    "    return res.fun"
   ]
  },
  {
   "cell_type": "markdown",
   "id": "6ab06bcf",
   "metadata": {},
   "source": [
    "哈密顿量演化"
   ]
  },
  {
   "cell_type": "code",
   "execution_count": 60,
   "id": "dc4cb6b9",
   "metadata": {},
   "outputs": [],
   "source": [
    "def evolution_q0(pulse_paras, pulse_const, H, states, n):\n",
    "    H_x0 = [sxList[0], drive_pulseX0]\n",
    "    H_y0 = [syList[0], drive_pulseY0]\n",
    "    Ht = [H, H_x0, H_y0]\n",
    "    args = dict()\n",
    "\n",
    "    args['gate time'] = pulse_const[0] #  [tg, wd0, wd1, drag]\n",
    "    args['q0 drive frequency'] = pulse_const[1]\n",
    "    args['drag weight'] = pulse_const[3]\n",
    "\n",
    "    args['q0 amp'] = pulse_paras[1]\n",
    "    args['q0 detune'] = pulse_paras[0]\n",
    "    args['q0 phi'] = -pulse_paras[0] * args['gate time'] / 2\n",
    "\n",
    "    tList = np.arange(0, args['gate time'], 30 / 300)\n",
    "    U_full = propagator(Ht, tList, args=args)[-1]\n",
    "    U=np.zeros([2, 2], dtype='complex128')\n",
    "    for i in range(2):\n",
    "        for j in range(2):\n",
    "            U[i][j] = (states[state_number_index(energy_info['dim'], [n, 0, i])].dag() * U_full * \n",
    "                        states[state_number_index(energy_info['dim'], [n, 0, j])]).full()[0][0]\n",
    "    F = -Fidelity_X(Qobj(U))\n",
    "    error = 1 - F\n",
    "    return np.real(error)\n",
    "\n",
    "def evolution_q1(pulse_paras, pulse_const, H, states, n):\n",
    "    H_x1 = [sxList[1], drive_pulseX1]\n",
    "    H_y1 = [syList[1], drive_pulseY1]\n",
    "    Ht = [H, H_x1, H_y1]\n",
    "    args = dict()\n",
    "\n",
    "    args['gate time'] = pulse_const[0] #  [tg, wd0, wd1, drag]\n",
    "    args['q1 drive frequency'] = pulse_const[2]\n",
    "    args['drag weight'] = pulse_const[3]\n",
    "\n",
    "    args['q1 amp'] = pulse_paras[1]\n",
    "    args['q1 detune'] = pulse_paras[0]\n",
    "    args['q1 phi'] = -pulse_paras[0] * args['gate time'] / 2\n",
    "\n",
    "    tList = np.arange(0, args['gate time'], 300)\n",
    "    U_full = propagator(Ht, tList, args=args)[-1]\n",
    "    U=np.zeros([2,2], dtype='complex128')\n",
    "    for i in range(2):\n",
    "        for j in range(2):\n",
    "            U[i][j] = (states[state_number_index(energy_info['dim'], [i, 0, n])].dag() * U_full * \n",
    "                        states[state_number_index(energy_info['dim'], [j, 0, n])]).full()[0][0]\n",
    "    F = -Fidelity_X(Qobj(U))\n",
    "    error = 1 - F\n",
    "    return np.real(error)\n",
    "\n",
    "def evolution_q0q1(pulse_paras1, pulse_paras2, pulse_const, H, states, n):\n",
    "    H_x0 = [sxList[0], drive_pulseX0]\n",
    "    H_y0 = [syList[0], drive_pulseY0]\n",
    "    H_x1 = [sxList[1], drive_pulseX1]\n",
    "    H_y1 = [syList[1], drive_pulseY1]\n",
    "    Ht = [H, H_x0, H_y0, H_x1 ,H_y1]\n",
    "\n",
    "    args = dict()\n",
    "\n",
    "    args['gate time'] = pulse_const[0] #  [tg, wd0, wd1, drag]\n",
    "    args['q0 drive frequency'] = pulse_const[1]\n",
    "    args['q1 drive frequency'] = pulse_const[2]\n",
    "    args['drag weight'] = pulse_const[3]\n",
    "\n",
    "    args['q0 detune'] = pulse_paras1[0]    \n",
    "    args['q0 amp'] = pulse_paras1[1]\n",
    "    args['q0 phi'] = -pulse_paras1[0] * args['gate time'] / 2\n",
    "    args['q1 detune'] = pulse_paras2[0]\n",
    "    args['q1 amp'] = pulse_paras2[1]\n",
    "    args['q1 phi'] = -pulse_paras2[0] * args['gate time'] / 2\n",
    "\n",
    "    tList = np.arange(0, args['gate time'], 300)\n",
    "    U_full=propagator(Ht, tList, args = args)[-1]\n",
    "    U=np.zeros([2,2],dtype='complex128')\n",
    "    for i in range(2):\n",
    "        for j in range(2):\n",
    "            U[i][j]=(states[state_number_index(energy_info['dim'], [1, 0, n])].dag() * U_full *\n",
    "            states[state_number_index(energy_info['dim'], [1, 0, n])]).full()[0][0]\n",
    "    F = -Fidelity_X(Qobj(U))\n",
    "    error = 1 - F\n",
    "    return np.real(error), U"
   ]
  },
  {
   "cell_type": "markdown",
   "id": "8eb929e0",
   "metadata": {},
   "source": [
    "校准紧邻比特置$|0\\rangle$的参数，再用此参数做近邻比特置$|1\\rangle$的演化，算误差"
   ]
  },
  {
   "cell_type": "code",
   "execution_count": 7,
   "id": "7b13121f",
   "metadata": {},
   "outputs": [],
   "source": [
    "def par_X1(parameter):    \n",
    "    g_qc = parameter['gqc']\n",
    "    g_qq = parameter['gqq']\n",
    "    bitNum = parameter['bitNum']\n",
    "    omegaq = parameter['omegaq']\n",
    "    omegac = parameter['omegac']\n",
    "    tg = parameter['gate time']\n",
    "    wd0 = parameter['q0 drive frequency']\n",
    "    wd1 = parameter['q1 drive frequency']\n",
    "    drag = parameter['drag weight']\n",
    "    pulseConst = [tg, wd0, wd1, drag]\n",
    "\n",
    "    H0, Hi = H(g_qc, g_qq, omegaq, omegac, (bitNum + 1) // 2, (bitNum - 1) // 2)\n",
    "    states, _, energy, energy0 = eigensolve(H0, H0 + Hi)\n",
    "    detune = (energy[state_number_index(energy_info['dim'], [1, 0, 1])] - \\\n",
    "            energy[state_number_index(energy_info['dim'], [1, 0, 0])] - \\\n",
    "            energy0[state_number_index(energy_info['dim'], [1, 0, 1])] + \\\n",
    "            energy0[state_number_index(energy_info['dim'], [1, 0, 0])])\n",
    "    xIni = [detune, 0.21]\n",
    "    \n",
    "    bounds = ((xIni[0] - 10e-3 * 2 * np.pi, xIni[0] + 10e-3 * 2 * np.pi), (xIni[1] - 0.07, xIni[1] + 0.07))\n",
    "    result0 = minimize(evolution_q0, xIni, args=(pulseConst, H0 + Hi, states, 0), bounds=bounds, method='SLSQP', options={'ftol' : 1e-06})\n",
    "    err_0 = result0.fun\n",
    "    err_1 = evolution_q0(result0.x, pulseConst, H0 + Hi, states, 1)\n",
    "    return err_0, err_1\n"
   ]
  },
  {
   "cell_type": "markdown",
   "id": "ccdbd0bc",
   "metadata": {},
   "source": [
    "扫图"
   ]
  },
  {
   "cell_type": "code",
   "execution_count": 8,
   "id": "26f21f80",
   "metadata": {},
   "outputs": [
    {
     "ename": "NameError",
     "evalue": "name 'H' is not defined",
     "output_type": "error",
     "traceback": [
      "\u001b[1;31m---------------------------------------------------------------------------\u001b[0m",
      "\u001b[1;31mNameError\u001b[0m                                 Traceback (most recent call last)",
      "\u001b[1;32mC:\\Users\\KUSANA~1\\AppData\\Local\\Temp/ipykernel_41416/1456990691.py\u001b[0m in \u001b[0;36m<module>\u001b[1;34m\u001b[0m\n\u001b[0;32m     13\u001b[0m                     'gate time' : 30, 'q0 drive frequency' : omega0 * 2 * np.pi, 'q1 drive frequency' : omega1 * 2 * np.pi, 'drag weight' : 0.5}\n\u001b[0;32m     14\u001b[0m         \u001b[0mparameters\u001b[0m\u001b[1;33m.\u001b[0m\u001b[0mappend\u001b[0m\u001b[1;33m(\u001b[0m\u001b[0mparameter\u001b[0m\u001b[1;33m)\u001b[0m\u001b[1;33m\u001b[0m\u001b[1;33m\u001b[0m\u001b[0m\n\u001b[1;32m---> 15\u001b[1;33m         \u001b[0merror_0\u001b[0m\u001b[1;33m,\u001b[0m \u001b[0merror_1\u001b[0m \u001b[1;33m=\u001b[0m \u001b[0mpar_X1\u001b[0m\u001b[1;33m(\u001b[0m\u001b[0mparameter\u001b[0m\u001b[1;33m)\u001b[0m\u001b[1;33m\u001b[0m\u001b[1;33m\u001b[0m\u001b[0m\n\u001b[0m\u001b[0;32m     16\u001b[0m         \u001b[0mprint\u001b[0m\u001b[1;33m(\u001b[0m\u001b[0momega1\u001b[0m\u001b[1;33m,\u001b[0m \u001b[0momegac\u001b[0m\u001b[1;33m,\u001b[0m \u001b[0merror_0\u001b[0m\u001b[1;33m,\u001b[0m \u001b[0merror_1\u001b[0m\u001b[1;33m)\u001b[0m\u001b[1;33m\u001b[0m\u001b[1;33m\u001b[0m\u001b[0m\n\u001b[0;32m     17\u001b[0m         \u001b[0merr0_list\u001b[0m\u001b[1;33m.\u001b[0m\u001b[0mappend\u001b[0m\u001b[1;33m(\u001b[0m\u001b[0merror_0\u001b[0m\u001b[1;33m)\u001b[0m\u001b[1;33m\u001b[0m\u001b[1;33m\u001b[0m\u001b[0m\n",
      "\u001b[1;32mC:\\Users\\KUSANA~1\\AppData\\Local\\Temp/ipykernel_41416/3208750107.py\u001b[0m in \u001b[0;36mpar_X1\u001b[1;34m(parameter)\u001b[0m\n\u001b[0;32m     11\u001b[0m     \u001b[0mpulseConst\u001b[0m \u001b[1;33m=\u001b[0m \u001b[1;33m[\u001b[0m\u001b[0mtg\u001b[0m\u001b[1;33m,\u001b[0m \u001b[0mwd0\u001b[0m\u001b[1;33m,\u001b[0m \u001b[0mwd1\u001b[0m\u001b[1;33m,\u001b[0m \u001b[0mdrag\u001b[0m\u001b[1;33m]\u001b[0m\u001b[1;33m\u001b[0m\u001b[1;33m\u001b[0m\u001b[0m\n\u001b[0;32m     12\u001b[0m \u001b[1;33m\u001b[0m\u001b[0m\n\u001b[1;32m---> 13\u001b[1;33m     \u001b[0mH0\u001b[0m\u001b[1;33m,\u001b[0m \u001b[0mHi\u001b[0m \u001b[1;33m=\u001b[0m \u001b[0mH\u001b[0m\u001b[1;33m(\u001b[0m\u001b[0mg_qc\u001b[0m\u001b[1;33m,\u001b[0m \u001b[0mg_qq\u001b[0m\u001b[1;33m,\u001b[0m \u001b[0momegaq\u001b[0m\u001b[1;33m,\u001b[0m \u001b[0momegac\u001b[0m\u001b[1;33m,\u001b[0m \u001b[1;33m(\u001b[0m\u001b[0mbitNum\u001b[0m \u001b[1;33m+\u001b[0m \u001b[1;36m1\u001b[0m\u001b[1;33m)\u001b[0m \u001b[1;33m//\u001b[0m \u001b[1;36m2\u001b[0m\u001b[1;33m,\u001b[0m \u001b[1;33m(\u001b[0m\u001b[0mbitNum\u001b[0m \u001b[1;33m-\u001b[0m \u001b[1;36m1\u001b[0m\u001b[1;33m)\u001b[0m \u001b[1;33m//\u001b[0m \u001b[1;36m2\u001b[0m\u001b[1;33m)\u001b[0m\u001b[1;33m\u001b[0m\u001b[1;33m\u001b[0m\u001b[0m\n\u001b[0m\u001b[0;32m     14\u001b[0m     \u001b[0mstates\u001b[0m\u001b[1;33m,\u001b[0m \u001b[0m_\u001b[0m\u001b[1;33m,\u001b[0m \u001b[0menergy\u001b[0m\u001b[1;33m,\u001b[0m \u001b[0menergy0\u001b[0m \u001b[1;33m=\u001b[0m \u001b[0meigensolve\u001b[0m\u001b[1;33m(\u001b[0m\u001b[0mH0\u001b[0m\u001b[1;33m,\u001b[0m \u001b[0mH0\u001b[0m \u001b[1;33m+\u001b[0m \u001b[0mHi\u001b[0m\u001b[1;33m)\u001b[0m\u001b[1;33m\u001b[0m\u001b[1;33m\u001b[0m\u001b[0m\n\u001b[0;32m     15\u001b[0m     detune = (energy[state_number_index(energy_info['dim'], [1, 0, 1])] - \\\n",
      "\u001b[1;31mNameError\u001b[0m: name 'H' is not defined"
     ]
    }
   ],
   "source": [
    "omega0 = 5\n",
    "omega1List = np.arange(4, 6, 2 / 5)\n",
    "omegacList = np.arange(4, 8, 4 / 5)\n",
    "err0_list = []\n",
    "err1_list = []\n",
    "parameters = []\n",
    "bitNum = 3\n",
    "\n",
    "for omega1 in omega1List:\n",
    "    for omegac in omegacList:\n",
    "        parameter = {'gqc' : g_qc, 'gqq' : g_qq, 'bitNum' : bitNum, \n",
    "                    'omegaq' : np.array([omega0, omega1]) * 2 * np.pi, 'omegac' : np.array([omegac]) * 2 * np.pi,\n",
    "                    'gate time' : 30, 'q0 drive frequency' : omega0 * 2 * np.pi, 'q1 drive frequency' : omega1 * 2 * np.pi, 'drag weight' : 0.5}\n",
    "        parameters.append(parameter)\n",
    "        error_0, error_1 = par_X1(parameter)\n",
    "        print(omega1, omegac, error_0, error_1)\n",
    "        err0_list.append(error_0)\n",
    "        err1_list.append(error_1)\n",
    "\n",
    "# result1 = parallel_map(par_X1, parameter, progress_bar=True,num_cpus=22)     \n",
    "err0_list = np.array([err0_list]).reshape(len(omega1List), len(omegacList))\n",
    "err1_list = np.array([err1_list]).reshape(len(omega1List), len(omegacList))"
   ]
  },
  {
   "cell_type": "markdown",
   "id": "211c71f9",
   "metadata": {},
   "source": [
    "plot"
   ]
  },
  {
   "cell_type": "code",
   "execution_count": null,
   "id": "44e61cb1",
   "metadata": {},
   "outputs": [],
   "source": [
    "xx,yy = np.meshgrid(omega1List, omegacList)\n",
    "font2 = {'family' : 'Times New Roman', 'weight' : 'normal', 'size' : 20}\n",
    "fig, ax = plt.subplots()\n",
    "c = ax.pcolormesh(xx, yy, np.log10(error0_list.T), cmap='jet')\n",
    "cb=plt.colorbar(c, ax=ax)\n",
    "cb.set_label('$log_{10}(\\epsilon)$',fontdict=font2) \n",
    "\n",
    "plt.xlabel('$\\omega_2$',font2)\n",
    "plt.ylabel('$\\omega_c$',font2)\n",
    "plt.savefig('erro.pdf', dpi=300)\n",
    "\n",
    "xx,yy = np.meshgrid(omega1List, omegacList)\n",
    "font2 = {'family' : 'Times New Roman', 'weight' : 'normal', 'size' : 20}\n",
    "fig, ax = plt.subplots()\n",
    "c = ax.pcolormesh(xx, yy, np.log10(error1_list.T), cmap='jet')\n",
    "cb=plt.colorbar(c, ax=ax)\n",
    "cb.set_label('$log_{10}(\\epsilon)$',fontdict=font2) \n",
    "\n",
    "plt.xlabel('$\\omega_2$',font2)\n",
    "plt.ylabel('$\\omega_c$',font2)\n",
    "plt.savefig('erro.pdf', dpi=300)"
   ]
  }
 ],
 "metadata": {
  "kernelspec": {
   "display_name": "base",
   "language": "python",
   "name": "python3"
  },
  "language_info": {
   "codemirror_mode": {
    "name": "ipython",
    "version": 3
   },
   "file_extension": ".py",
   "mimetype": "text/x-python",
   "name": "python",
   "nbconvert_exporter": "python",
   "pygments_lexer": "ipython3",
   "version": "3.9.7"
  },
  "toc": {
   "base_numbering": 1,
   "nav_menu": {},
   "number_sections": true,
   "sideBar": true,
   "skip_h1_title": false,
   "title_cell": "Table of Contents",
   "title_sidebar": "Contents",
   "toc_cell": false,
   "toc_position": {
    "height": "633.636px",
    "left": "288px",
    "top": "111.051px",
    "width": "349.091px"
   },
   "toc_section_display": true,
   "toc_window_display": true
  },
  "varInspector": {
   "cols": {
    "lenName": 16,
    "lenType": 16,
    "lenVar": 40
   },
   "kernels_config": {
    "python": {
     "delete_cmd_postfix": "",
     "delete_cmd_prefix": "del ",
     "library": "var_list.py",
     "varRefreshCmd": "print(var_dic_list())"
    },
    "r": {
     "delete_cmd_postfix": ") ",
     "delete_cmd_prefix": "rm(",
     "library": "var_list.r",
     "varRefreshCmd": "cat(var_dic_list()) "
    }
   },
   "types_to_exclude": [
    "module",
    "function",
    "builtin_function_or_method",
    "instance",
    "_Feature"
   ],
   "window_display": false
  }
 },
 "nbformat": 4,
 "nbformat_minor": 5
}
